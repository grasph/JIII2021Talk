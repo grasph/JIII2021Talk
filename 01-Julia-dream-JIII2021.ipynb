{
 "cells": [
  {
   "cell_type": "markdown",
   "id": "bda53ff3-7ee5-4f17-824b-6a979ef10ed6",
   "metadata": {},
   "source": [
    "_Next cell is used to modify display setting for a presentation style._"
   ]
  },
  {
   "cell_type": "code",
   "execution_count": 1,
   "id": "a26ab57b-021a-438d-896a-8662e22a44ab",
   "metadata": {
    "tags": []
   },
   "outputs": [
    {
     "data": {
      "text/html": [
       "<style>\n",
       "  /* resize the input editor and output area */\n",
       "  div.jp-Editor div { font-size: 25px; }\n",
       "  div.jp-OutputArea-output pre { font-size: 25px; }\n",
       "\n",
       "  /* resize the markdown output */\n",
       "  var(--jp-content-font-size, \"25px\")\n",
       "  div.jp-MarkdownOutput { font-size: 25px; }\n",
       "  .jp-MarkdownOutput li { font-size: 25px; }\n",
       "  .jp.RenderedHTMLCommon table { font-size: 25px !important;}\n",
       "  div.text_cell_render  { font-size: 25px; \n",
       "                          line-height: 35px;}\n",
       "  div.text_cell_render li  { font-size: 25px; }\n",
       "  div.text_cell_render table { font-size: 25px;}\n",
       "\n",
       "  /* Frame around markdown output cells */\n",
       "  div.jp-MarkdownOutput { border-style: solid; border-color: #a6a6a6;\n",
       "                          padding: 10px 10px 50px 50px;\n",
       "  }\n",
       "  div.text_cell_render { border-style: solid; border-color: #a6a6a6;\n",
       "                         padding: 10px 10px 50px 50px;\n",
       "  }\n",
       "\n",
       "</style>\n",
       "<body>\n",
       "<h1>Presentation mode. Clear the output of this cell to exit the mode.</h1>\n",
       "<p><h2>Use j (next) and k (previous) keys to navigate between cells.</h2>\n",
       "</body>\n"
      ],
      "text/plain": [
       "HTML{String}(\"<style>\\n  /* resize the input editor and output area */\\n  div.jp-Editor div { font-size: 25px; }\\n  div.jp-OutputArea-output pre { font-size: 25px; }\\n\\n  /* resize the markdown output */\\n  var(--jp-content-font-size, \\\"25px\\\")\\n  div.jp-MarkdownOutput { font-size: 25px; }\\n  .jp-MarkdownOutput li { font-size: 25px; }\\n  .jp.RenderedHTMLCommon table { font-size: 25px !important;}\\n  div.text_cell_render  { font-size: 25px; \\n                          line-height: 35px;}\\n  div.text_cell_render li  { font-size: 25px; }\\n  div.text_cell_render table { font-size: 25px;}\\n\\n  /* Frame around markdown output cells */\\n  div.jp-MarkdownOutput { border-style: solid; border-color: #a6a6a6;\\n                          padding: 10px 10px 50px 50px;\\n  }\\n  div.text_cell_render { border-style: solid; border-color: #a6a6a6;\\n                         padding: 10px 10px 50px 50px;\\n  }\\n\\n</style>\\n<body>\\n<h1>Presentation mode. Clear the output of this cell to exit the mode.</h1>\\n<p><h2>Use j (next) and k (previous) keys to navigate between cells.</h2>\\n</body>\\n\")"
      ]
     },
     "execution_count": 1,
     "metadata": {},
     "output_type": "execute_result"
    }
   ],
   "source": [
    "singleCellDisplay = false\n",
    "editor_font_size = 25\n",
    "code_output_font_size = 25\n",
    "markdown_output_font_size = 25\n",
    "markdown_list_font_size = 25\n",
    "HTML(\"\"\"\n",
    "<style>\n",
    "\"\"\" * (singleCellDisplay ? \"\"\"\n",
    "  /*Displays the selected cell only*/\n",
    "  .jp-NotebookPanel-notebook > .jp-Cell:not(.jp-mod-selected) { display: none; }\n",
    "  div.unselected { display: none; }\n",
    "\"\"\" : \"\") * \"\"\"\n",
    "  /* resize the input editor and output area */\n",
    "  div.jp-Editor div { font-size: $(editor_font_size)px; }\n",
    "  div.jp-OutputArea-output pre { font-size: $(code_output_font_size)px; }\n",
    "\n",
    "  /* resize the markdown output */\n",
    "  var(--jp-content-font-size, \"25px\")\n",
    "  div.jp-MarkdownOutput { font-size: $(markdown_output_font_size)px; }\n",
    "  .jp-MarkdownOutput li { font-size: $(markdown_list_font_size)px; }\n",
    "  .jp.RenderedHTMLCommon table { font-size: $(markdown_output_font_size)px !important;}\n",
    "  div.text_cell_render  { font-size: $(markdown_output_font_size)px; \n",
    "                          line-height: 35px;}\n",
    "  div.text_cell_render li  { font-size: $(markdown_list_font_size)px; }\n",
    "  div.text_cell_render table { font-size: $(markdown_output_font_size)px;}\n",
    "\n",
    "  /* Frame around markdown output cells */\n",
    "  div.jp-MarkdownOutput { border-style: solid; border-color: #a6a6a6;\n",
    "                          padding: 10px 10px 50px 50px;\n",
    "  }\n",
    "  div.text_cell_render { border-style: solid; border-color: #a6a6a6;\n",
    "                         padding: 10px 10px 50px 50px;\n",
    "  }\n",
    "\n",
    "</style>\n",
    "<body>\n",
    "<h1>Presentation mode. Clear the output of this cell to exit the mode.</h1>\n",
    "<p><h2>Use j (next) and k (previous) keys to navigate between cells.</h2>\n",
    "</body>\n",
    "\"\"\")"
   ]
  },
  {
   "cell_type": "markdown",
   "id": "2ba91127-2e73-4bb4-bc2c-6ee77392c36e",
   "metadata": {
    "tags": []
   },
   "source": [
    "# 13e Journées Informatiques IN2P3/IRFU\n",
    "<span style=\"position:absolute;top:0px;right:20px;\"><img src=\"img/irfu_logo.jpg\" width=\"120px\"/></span>\n",
    "\n",
    "----------\n",
    "\n",
    "<br/><br/><br/>\n",
    "\n",
    "\n",
    "<div style=\"height:300px;\">\n",
    "<div style=\"margin-left:10%;\">\n",
    "    \n",
    "<h1>Julia, a HEP dream comes true</h1>\n",
    "<h2 style=\"font-style:italic;margin-top:0.3em;\">Julia, un rêve HEP se réalise</h2>\n",
    "<br/>\n",
    "Philippe Gras (Université Paris-Saclay, CEA/Irfu)\n",
    "    </div>\n",
    "\n",
    "\n",
    "<div style=\"position:absolute; bottom:10px;\">November 16th, 2021</div>\n",
    "</div>"
   ]
  },
  {
   "cell_type": "markdown",
   "id": "527db46a-1650-4a50-8351-67222923a458",
   "metadata": {},
   "source": [
    "# Introduction\n",
    "\n",
    "* Julia is a relatively new __programming language__\n",
    "<br/><br/>\n",
    "* Let's start with few words on the context..."
   ]
  },
  {
   "cell_type": "markdown",
   "id": "demographic-nicaragua",
   "metadata": {
    "tags": []
   },
   "source": [
    "# High performance computing is important for HEP\n",
    "\n",
    "<div style=\"display:flex;\">\n",
    "    <div style=\"width:25%;\">\n",
    "    <div><a href=\"https://doi.org/10.1088/1742-6596/1085/2/022006\">From E Sexton-Kennedy 2018 J. Phys.: Conf. Ser. 1085 022006</a><br/>\n",
    "        THS06*s: Tera CPUs $\\times$ s<br/><br/><br/>\n",
    "</div>\n",
    "</div>\n",
    "    <div style=\"width:70%;\"><img alt=\"CMS computing needs\" src=\"img/CMS_computing_needs.png\"/></div>\n",
    "</div>\n",
    "\n",
    "   * Computing plays a central role in the research done at LHC\n",
    "     + Theoretical predictions: simulation of the proton-proton collisions\n",
    "     + Simulation of the detector response\n",
    "     + Reconstruction of the phyics events\n",
    "     + Analysis of reconstructed events to perform measurements and new physics search."
   ]
  },
  {
   "cell_type": "markdown",
   "id": "21a5c5fa-eeeb-459e-8e07-f1306c3d2304",
   "metadata": {},
   "source": [
    "# Analysis of the reconstructed events\n",
    "  * Behind an LHC experiment result publication there are <b>tens of thousands</b> of computing jobs that have run on the worldwide computing grid. Both ATLAS and CMS reached their 1000th papers in June 2020.\n",
    "   * Research code: developed by the main authors of the prepared publication\n",
    "   * C++ is widely used and the performance it offers is essential\n",
    "   * More and more combined with Python, that provides easy/fast coding it offers, and comes with an extensive library ecosystem. But it does not meet the performance provided by C++\n",
    "   * <span style=\"color:darkgreen;font-weight:bold;\">A programming language that offers at the same time the C++ and Python pros would be more convenient</span>"
   ]
  },
  {
   "cell_type": "markdown",
   "id": "62d38060-8798-42e1-9a0b-2af3e7b8a1c7",
   "metadata": {},
   "source": [
    "# Julia solving the two-language problem\n",
    "-----\n",
    "\n",
    "   <center>\n",
    "       <table style=\"font-size:25px;background:inherit;\">\n",
    "   <tr><th style=\"text-align:center;\">Fast/easy coding fast</th><th></th><th style=\"text-align:center;\">Fast running</th></tr>\n",
    "   <tr><td style=\"text-align:center;\">Python                </td><td>⇔</td><td style=\"text-align:center;\">C/C++</td></tr>\n",
    "   </table>    \n",
    "   ⇒  Mixing languages and Go back-and-forth between them\n",
    "   </center>\n",
    "\n",
    "<br/>\n",
    "\n",
    "* J. Bezanson, A. Edelman, S. Karpinski, and V. B. Shah tackled the problem in 2009 aiming to design a programing langue that providess both Fast/easy coding __AND__ Fast running\n",
    "   + Birth of Julia,  release 0.1 in __2013__ \n",
    "   + This breakthrough was recognized by awards attributed to the authors\n",
    "      - [James H. Wilkinson Prize in Numerical Analysis and Scientific in 2019](https://www.ll.mit.edu/news/wilkinson-prize-goes-developers-flexible-julia-programming-language) \n",
    "      - [IEEE Computer Society Sidney Fernbach Award in 2019](https://www.computer.org/press-room/2019-news/2019-ieee-fernbach-award-edelman)\n",
    "* In 12 years since its conceptualisation, Julia has been improved from release to release and has aggratated many package developers\n",
    "\n",
    "* Julia for HEP: [Performance of Julia for High Energy Physics Analyses, Marcel Stanitzki & Jan Strube](https://link.springer.com/article/10.1007/s41781-021-00053-3)\n",
    "\n",
    "\n",
    "      \n",
    "<div style=\"border: 5px darkgreen; border-style: none none none solid; padding:10px;margin-left:30px;\">\n",
    "    <h3>Nowadays, Julia is a mature language, with a wide ecosystem</h3>\n",
    "    </div>\n",
    "</div>\n",
    "\n"
   ]
  },
  {
   "cell_type": "markdown",
   "id": "legendary-sampling",
   "metadata": {},
   "source": [
    "# Loops\n",
    "\n",
    "<center>\n",
    "<img alt=\"A python loop\" src=\"img/snake-1546033.jpg\" width=\"80%\"/>\n",
    "</center>"
   ]
  },
  {
   "cell_type": "markdown",
   "id": "outside-apartment",
   "metadata": {},
   "source": [
    "# HEP data analysis is a looping game\n",
    "\n",
    "HEP enjoys loop: we loop on physics events to loop on particles/physics objects. We often perform particle matching and clustering and for this we loop on events to loop on objects to loop on objects.\n",
    "\n",
    "```julia\n",
    "for event in billions_of_lhc_events\n",
    "    for tens_or_hundreds_of_objects in event\n",
    "        for tens_or_hundres_of_objects_to_match in event\n",
    "            ...\n",
    "        end\n",
    "    end\n",
    "end\n",
    "```\n",
    "\n",
    " * The outer loops hides several loops: datasets > files\n",
    " * This is repeated several times for each analysis.\n",
    "<p style=\"margin-left:2em;\"> ⇒ Lines of code executed billions of times even for a Kleenex code, written specially for a publication.</p>"
   ]
  },
  {
   "cell_type": "markdown",
   "id": "c7f88121",
   "metadata": {},
   "source": [
    "## Python dislikes loop\n",
    "\n",
    " * A master rule for high-performance code in Python is to avoid writing loop in Python \n",
    "    + ⇒ push the loop to underlying compiled libraries. Approach of the `numpy` vectorisation.\n",
    " \n",
    "Let's run a simple loop\n",
    " \n",
    "[Simple loop in Python](Python-code.ipynb#simple-loop)"
   ]
  },
  {
   "cell_type": "markdown",
   "id": "7e87ebd7-31da-4d23-a15f-ea90dc553b6f",
   "metadata": {},
   "source": [
    "| Python |\n",
    "|--------|\n",
    "|  45 ms |"
   ]
  },
  {
   "cell_type": "markdown",
   "id": "de449e8a-809f-49ed-92cb-4ef01554d1bf",
   "metadata": {},
   "source": [
    "## In C++. Code in `simple-loop.cc`:\n",
    "\n",
    "```cpp\n",
    "#include <iostream>\n",
    "#include <sys/time.h>x\n",
    "\n",
    "int main(){\n",
    "  struct timeval t0, t1;\n",
    "  gettimeofday(&t0, 0);\n",
    "    \n",
    "  double a = 0.;\n",
    "  for(unsigned i = 0; i <= 1000000; ++i) a += 1.0/i;\n",
    "  std::cout << \"Computation Result: \" << a << \"\\n\";\n",
    "  \n",
    "  gettimeofday(&t1, 0);\n",
    "  std::cerr << \"Duration: \" << (t1.tv_sec-t0.tv_sec)\n",
    "    + 1.e-6*(t1.tv_usec-t0.tv_usec)\n",
    "\t    << \" seconds\\n\";\n",
    "  return 0;\n",
    "}\n",
    "```"
   ]
  },
  {
   "cell_type": "code",
   "execution_count": 9,
   "id": "b914e148-86e3-4de0-9155-1849c66603f4",
   "metadata": {},
   "outputs": [
    {
     "name": "stdout",
     "output_type": "stream",
     "text": [
      "Computation Result: 14.3927\n",
      "Computation Result: 14.3927\n"
     ]
    },
    {
     "name": "stderr",
     "output_type": "stream",
     "text": [
      "Duration: 0.003238 seconds\n",
      "Duration: 0.001518 seconds\n"
     ]
    }
   ],
   "source": [
    "run(`g++ -Wall -o simple-loop simple-loop.cc`)\n",
    "run(`./simple-loop`)\n",
    ";\n",
    "run(`g++ -O3 -Wall -o simple-loop simple-loop.cc`)\n",
    "run(`./simple-loop`)\n",
    ";"
   ]
  },
  {
   "cell_type": "markdown",
   "id": "261eaf0d-85c3-4cbe-ad23-be8031148137",
   "metadata": {},
   "source": [
    "| Python |  C++  |\n",
    "|--------|-------|\n",
    "| 45 ms  | 1.0 ms |"
   ]
  },
  {
   "cell_type": "markdown",
   "id": "d235f987-a157-4bb7-9aea-609edd9126e8",
   "metadata": {},
   "source": [
    "## How is doing Julia?"
   ]
  },
  {
   "cell_type": "code",
   "execution_count": 10,
   "id": "ebf7c4e9-0851-486e-8a7c-944b212b67b0",
   "metadata": {
    "tags": []
   },
   "outputs": [
    {
     "name": "stdout",
     "output_type": "stream",
     "text": [
      "  0.001369 seconds (1 allocation: 16 bytes)\n"
     ]
    },
    {
     "data": {
      "text/plain": [
       "14.392726722864989"
      ]
     },
     "execution_count": 10,
     "metadata": {},
     "output_type": "execute_result"
    }
   ],
   "source": [
    "#\n",
    "# Julia\n",
    "#\n",
    "function f()\n",
    "    a = 0.0\n",
    "    for i in 1:1_000_000 # ✨ Note the underscores that improves legibility\n",
    "       a = a + 1.0/i\n",
    "    end\n",
    "    return a\n",
    "end\n",
    "f()\n",
    "@time b = f()"
   ]
  },
  {
   "cell_type": "markdown",
   "id": "c91f2f0f-e963-43fd-bf54-85e021e0dcf7",
   "metadata": {},
   "source": [
    "| Python  | C++    | Julia  |\n",
    "|---------|--------|--------|\n",
    "|  45 ms  | 1.0 ms | 1.0 ms |"
   ]
  },
  {
   "cell_type": "markdown",
   "id": "084c9d64-9eff-4aeb-a8c6-51a4906f8fec",
   "metadata": {},
   "source": [
    "# Ease of programming\n",
    "\n",
    "## The goal is not only running performance. We want also fast and easy coding.\n",
    "\n",
    "   * You have already seen in the previous example that the code syntax and grammar is similar to Pythons. No ''std::map<std:string, std::vector<MyClass>>''..., no compilation step.\n",
    "   * Easy to learn\n",
    "   * Syntactic sugars similar to Python for a concise code: list comprehension, a &lt; b &lt; c, 1_000_000, support of symbols for variables...\n",
    "    and more: e.g. a function call is \"vectorized\" (ala numpy) with a simple dot, f.(x)\n",
    "   * Interactive help, nice tools to debug, to optimize code, for introspection.\n",
    "   * Multidispatch eases remarkably use/extension of third-party libraries → explains the rapid grow of the Julia ecosystem."
   ]
  },
  {
   "cell_type": "markdown",
   "id": "233e7331",
   "metadata": {},
   "source": [
    "# Programming in a community"
   ]
  },
  {
   "cell_type": "markdown",
   "id": "behavioral-mining",
   "metadata": {},
   "source": [
    "## Googling programming\n",
    "\n",
    "Internet search engine and stack overflow play is an essential ingredient in nowadays programming workflow.\n",
    "\n",
    "Julia is already widespread enough, to find all the information on the Internet.<br/>\n",
    "\n",
    "In addition to usual resource, Julia has dedicated forum on [Discourse](https://discourse.julialang.org/), [Slack](https://julialang.org/slack/), and [Zulip](https://julialang.zulipchat.com/) with an active and friendly community.\n",
    "\n",
    "Go to [DuckDuckGo](https://www.duckduckgo.com) or your prefered search engine and make a try.\n",
    "\n"
   ]
  },
  {
   "cell_type": "markdown",
   "id": "fd0ced5b-6eee-426a-9b4c-035dea81a0cc",
   "metadata": {},
   "source": [
    "## Ecosystem\n",
    "\n",
    "* Large set of libraries and active developement\n",
    "   + Julia is firstly used by scientific community  ⇒ oriented to our needs\n",
    "* I did the following game during the [PyHEP2021 workshop](https://indico.cern.ch/event/1019958/): I've looked for a Julia equivalent each time a speaker mention a Python library (apart from HEP specific ones).\n",
    "   + Caveat: I've not checked that it covers all the features of the Python package\n",
    "   + The results of this survey shows the large activity around Julia\n",
    "\n",
    "cmd (Olivier Mattelaer) ✓<br/>\n",
    "FreeCAD interface (Christophe Delaere) ❌ [In discussion](https://forum.freecadweb.org/viewtopic.php?f=8&t=42400&sid=77306c4ad6e62533dfbf06909b06c0c8&start=10)<br/>\n",
    "Telegram bot (Matias Senge) ✓ https://github.com/Arkoniak/Telegram.jl<br/>\n",
    "DataFrames (Vincenzo Eduardo Padulano)  ✓<br/>\n",
    "Spark (Vicenzo and Andr F.)  ✓ https://github.com/dfdx/Spark.jl<br/>\n",
    "Dask (Vincenzo E. P., Graham Markal) ✓<br/>\n",
    "Batch computing (Vincenzo E. P.)  ✓ https://docs.julialang.org/en/v1/manual/parallel-computing/, https://github.com/JuliaParallel, https://juliagpu.org/<br/>\n",
    "Apache Parquet  (Andre Frankenthal)  ✓<br/>\n",
    "Jupyter/Binder/SWAN ✓<br/>\n",
    "Bokeh (Bruno Alves)  ✓ https://github.com/samuelcolvin/Bokeh.jl<br/>\n",
    "CUDA (Graham Markall) ✓ https://juliagpu.org/cuda/<br/>\n",
    "Hypothesis (Santam Roy Choudhury, property testing)  ❌ ([beside an unmaintained QuickCheck projet](https://quickcheckjl.readthedocs.io/))<br/>\n",
    "Virtualenv (Henry Schneider, Packaging talk) ✓ [built in the std package manager](https://pkgdocs.julialang.org/v1/environments/)<br/>\n",
    "Unit test tools (Henry Schneider, Packaging talk)  ✓ [std package](https://docs.julialang.org/en/v1/stdlib/Test/) and more: [Coverage](https://github.com/JuliaCI/Coverage.jl), [FactCheck](https://github.com/JuliaAttic/FactCheck.jl)<br/>\n",
    "JIT/Numba (Graham Markal, Henry Schneider) ✓ [Intrisic to the language](https://docs.julialang.org/en/v1/#man-introduction)<br/>\n",
    "Machine learning ✓ [Flux](https://fluxml.ai/), [JuliaML](https://juliaml.github.io/),<br/>\n",
    "&nbsp;&nbsp;TensorFlow(Matthew Feickert)[TensorFlow](https://github.com/malmaud/TensorFlow.jl)<br/>\n",
    "&nbsp;&nbsp;GPyTorch/Gaussian Process ML (Irina Espejo Morales [talk](https://indico.cern.ch/event/1019958/timetable/#14-active-learning-for-level-s)) [GPML](https://github.com/JuliaGaussianProcesses/GPMLj.jl)"
   ]
  },
  {
   "cell_type": "markdown",
   "id": "450cbd31-e8e9-438b-b287-6571acd700d8",
   "metadata": {},
   "source": [
    "# Data format support\n",
    "\n",
    "* Non-HEP format\n",
    "  + HDF5 and Parquet are fully supported (also CSV and Excel, less relevant our data size)\n",
    "* ROOT\n",
    "  + Two packages, developed by users. \n",
    "     - Writtten in Julia, fast, and read-only: [UnROOT.jl](https://github.com/tamasgal/UnROOT.jl)</b> from Tamas Gal and Jerry Ling. Can read KM3Net data and tree of simple type and/or vector of simple type like CMS NanoAOD.\n",
    "     - Providing both read and write support: [UpROOT.jl](https://github.com/JuliaPy/PyCall.jl) from Oliver Schulz. A wrapper to [uproot](https://github.com/scikit-hep/uproot3). Support xroot."
   ]
  },
  {
   "cell_type": "markdown",
   "id": "c3db8c57",
   "metadata": {},
   "source": [
    "# Advanced tools\n",
    "\n",
    "## IDE\n",
    "   * Emacs and vim support\n",
    "   * Atom and VScode support. Many features. Code can be run and debugged with the IDE, with support for plots.\n",
    "\n",
    "## Notebooks\n",
    "   * <b>Ju</b>pyter\n",
    "   * [Pluto](https://github.com/fonsp/Pluto.jlhttps://github.com/fonsp/Pluto.jl). A new generation notebook with automatic update of cells.\n",
    "   * Debugger: Debugger, Rebugger, Juno debugger (for Atom IDE)\n",
    "    \n",
    "    \n",
    "## Package installation\n",
    "   * Python made it easy with conda and pip. It's even easier in Julia\n",
    "      + A standard library part of the Julia installation\n",
    "      + Give instructions to the user, when he or she tries to import a missing package. Try it:"
   ]
  },
  {
   "cell_type": "code",
   "execution_count": 13,
   "id": "43a3c214-d79b-499f-ae17-54f2dce639b5",
   "metadata": {},
   "outputs": [
    {
     "ename": "LoadError",
     "evalue": "ArgumentError: Package Blink not found in current path:\n- Run `import Pkg; Pkg.add(\"Blink\")` to install the Blink package.\n",
     "output_type": "error",
     "traceback": [
      "ArgumentError: Package Blink not found in current path:\n- Run `import Pkg; Pkg.add(\"Blink\")` to install the Blink package.\n",
      "",
      "Stacktrace:",
      " [1] require(into::Module, mod::Symbol)",
      "   @ Base ./loading.jl:967",
      " [2] eval",
      "   @ ./boot.jl:373 [inlined]",
      " [3] include_string(mapexpr::typeof(REPL.softscope), mod::Module, code::String, filename::String)",
      "   @ Base ./loading.jl:1196"
     ]
    }
   ],
   "source": [
    "import Blink"
   ]
  },
  {
   "cell_type": "markdown",
   "id": "427c5e02-ad4e-4da5-b889-00e9fa4d3d63",
   "metadata": {},
   "source": [
    "In the REPL (interactive terminal application equivalent ipython), since version 1.7, the user is proposed to install the missing package and does not even need to enter the installation command.\n",
    "\n",
    "<img alt=\"Package installation prompt\" src=\"img/package_install.png\" width=\"90%\"/><br>\n",
    "\n",
    "💡 Dedicated command mode for package handling in the REPL:\n",
    "```julia-repl\n",
    "julia> ]\n",
    "(@v1.6) pkg> add Blink\n",
    "(@v1.6) pkg> [Backspace]\n",
    "julia>\n",
    "```"
   ]
  },
  {
   "cell_type": "markdown",
   "id": "d62ddb94",
   "metadata": {},
   "source": [
    "# Interoperability\n",
    "\n",
    "<center>\n",
    "    <div>\n",
    "<img alt='\"Plug adaptors\" by dogwelder is licensed under CC BY-NC 2.0' src=\"img/plugs.jpg\" width=\"60%\"/><br>\n",
    "    <span style=\"font-size:14px;text-align:left;\">Credits: Karen V Bryan is licensed under CC BY-ND 2.0</span>\n",
    "    </div>\n",
    "</center>\n",
    "\n",
    "* Python, C, Fortran code: direct call from Julia and Jupyter Julia kernels\n",
    "* C++ code: call via a wrapper. Lacking a tool for automatic generation of wrapper like swig. Project for direct-call (ala cppyy) on hold and not working for recent versions of Julia.\n",
    "\n",
    "The other way around\n",
    "\n",
    "* Python code can call Julia as well\n",
    "* C/C++ code can call Julia code"
   ]
  },
  {
   "cell_type": "markdown",
   "id": "27bc2a1b-7fe5-4942-884c-1b1741f7a73f",
   "metadata": {},
   "source": [
    "# Calling Python from Julia\n",
    "\n",
    "As simple as calling Julia code"
   ]
  },
  {
   "cell_type": "code",
   "execution_count": 5,
   "id": "461e51f3-647b-4566-891c-6840c5d577da",
   "metadata": {},
   "outputs": [
    {
     "data": {
      "text/plain": [
       "0.7071067811865475"
      ]
     },
     "execution_count": 5,
     "metadata": {},
     "output_type": "execute_result"
    }
   ],
   "source": [
    "# Enable Python call:\n",
    "using PyCall\n",
    "\n",
    "# Inport a python module:\n",
    "math = pyimport(\"math\")\n",
    "\n",
    "# Use it as a Julia module:\n",
    "math.sin(math.pi / 4)"
   ]
  },
  {
   "cell_type": "markdown",
   "id": "ce6da619",
   "metadata": {},
   "source": [
    "# Calling C from Julia"
   ]
  },
  {
   "cell_type": "code",
   "execution_count": 6,
   "id": "03fbd939",
   "metadata": {},
   "outputs": [
    {
     "data": {
      "text/plain": [
       "\"/bin/bash\""
      ]
     },
     "execution_count": 6,
     "metadata": {},
     "output_type": "execute_result"
    }
   ],
   "source": [
    "path = ccall(:getenv, Cstring, (Cstring,), \"SHELL\")\n",
    "unsafe_string(path)"
   ]
  },
  {
   "cell_type": "markdown",
   "id": "8eaf62ef",
   "metadata": {},
   "source": [
    "For C, you will typically write a wrapper in ''Julia'' to handle errors, like:"
   ]
  },
  {
   "cell_type": "code",
   "execution_count": 7,
   "id": "497fec73",
   "metadata": {},
   "outputs": [
    {
     "data": {
      "text/plain": [
       "getenv (generic function with 1 method)"
      ]
     },
     "execution_count": 7,
     "metadata": {},
     "output_type": "execute_result"
    }
   ],
   "source": [
    "function getenv(var::AbstractString)\n",
    "    val = ccall(:getenv, Cstring, (Cstring,), var)\n",
    "    if val == C_NULL\n",
    "        error(\"getenv: undefined variable: \", var)\n",
    "    end\n",
    "    return unsafe_string(val)\n",
    "end"
   ]
  },
  {
   "cell_type": "code",
   "execution_count": 8,
   "id": "409d2d27",
   "metadata": {},
   "outputs": [
    {
     "name": "stdout",
     "output_type": "stream",
     "text": [
      "pgras\n"
     ]
    },
    {
     "ename": "LoadError",
     "evalue": "getenv: undefined variable: SMOKE",
     "output_type": "error",
     "traceback": [
      "getenv: undefined variable: SMOKE",
      "",
      "Stacktrace:",
      " [1] error(::String, ::String)",
      "   @ Base ./error.jl:42",
      " [2] getenv(var::String)",
      "   @ Main ./In[7]:4",
      " [3] top-level scope",
      "   @ In[8]:2",
      " [4] eval",
      "   @ ./boot.jl:373 [inlined]",
      " [5] include_string(mapexpr::typeof(REPL.softscope), mod::Module, code::String, filename::String)",
      "   @ Base ./loading.jl:1196"
     ]
    }
   ],
   "source": [
    "println(getenv(\"USER\"))\n",
    "println(getenv(\"SMOKE\")) # ⇒ will through an exception unless you have SMOKE in your environment "
   ]
  },
  {
   "cell_type": "markdown",
   "id": "da506ad9-eca7-46c0-959a-39fa0a677dd7",
   "metadata": {},
   "source": [
    "* Julia code can also be embedded in C/C++"
   ]
  },
  {
   "cell_type": "markdown",
   "id": "8c1bcc56",
   "metadata": {},
   "source": [
    "# Calling Julia from python\n",
    "\n",
    "```python\n",
    "$ python3 -m pip install julia    # install PyJulia\n",
    "...                               # you may need `--user` after `install`\n",
    "\n",
    "$ python3\n",
    ">>> import julia\n",
    ">>> julia.install()               # install PyCall.jl etc.\n",
    ">>> from julia import Base        # short demo\n",
    ">>> Base.sind(90)\n",
    "1.0\n",
    "```"
   ]
  },
  {
   "cell_type": "markdown",
   "id": "d8eec976",
   "metadata": {},
   "source": [
    "# Embedding Julia code in a Python notebook\n",
    "\n",
    "<a href=\"Julia_from_IPython.ipynb\"><img alt=\"Calling julia code from IPython\" src=\"img/julia_from_python.jpg\"/>\n",
    "         "
   ]
  },
  {
   "cell_type": "markdown",
   "id": "67777f93",
   "metadata": {},
   "source": [
    "# Let's use Julia for a HEP example\n",
    "\n",
    "## CMS dimuon analysis \n",
    "\n",
    "   > ⚡ It's an extremely simple analysis, way far from usual LHC analysis\n",
    "\n",
    "   > Let's go,\n",
    "   \n",
    "   * [Dimuon spectrum in Julia](dimu/dimuon-Julia.ipynb)\n",
    "   "
   ]
  },
  {
   "cell_type": "markdown",
   "id": "b272d46e-3395-454b-bfa6-21f0aef9487d",
   "metadata": {},
   "source": [
    "# Comparion with Python\n",
    " \n",
    "   Running times for different implentations of the dimuon analysis:\n",
    " \n",
    " [Julia](dimu/dimu-Julia.ipynb) | [Python event loop](dimu/dimuon-TTree-py.ipynb)| [Python RDataFrame</br>JIT-compiled C++](dimu/dimuon-RDF-C-py.ipynb) | [Python RDataFrame</br>JIT-compiled python (Numba)](dimuon-RDF-Numba-py.ipynb) \n",
    "  -------|-------------------|---------------------------------------|---------------\n",
    "   35 s  | 4h 5min           | 60 s                                  | 125s\n",
    "  \n",
    "<div style=\"margin-top:0.5em;font-style:italic;\">Similar performance expected for a DataFrame-based Julia implementation</div></div>\n",
    "  \n",
    "   <div style=\"text-align:center;margin-top:0.8em;font-weight:bold;font-size:35px;line-height:50px\">$\\Rightarrow$ <span style=\"color:darkblue;\">Julia runs fast out of the box</span><br/><span style=\"color:darkgreen;font-size:30px;font-style:italic;\">No need to think about peformance when writing the code</span></div>\n"
   ]
  },
  {
   "cell_type": "markdown",
   "id": "13e38ba4-d873-4919-821f-fb4502890444",
   "metadata": {},
   "source": [
    "# Conclusions\n",
    "\n",
    "* Julia is <span style=\"color:darkblue;font-weight:bold\">not just another language</span>. It answers a need,\n",
    "    <div style=\"text-align:center;\">Reconciling fast running with an easy and fast coding<br/></div>\n",
    "* It comes with a large Ecosystem\n",
    "* It's now mature enough to be used for HEP<br/>\n",
    "   <div style=\"color:darkgreen;font-weight:bold;text-align:center;margin-top:10px;margin-bottom:10px;\">It's the right time to catch the Julia's train</div>\n",
    "* [Study of its potential for HEP started within the HEP Software foundation last September](https://indico.cern.ch/event/1074269/) a report is in preparation."
   ]
  }
 ],
 "metadata": {
  "kernelspec": {
   "display_name": "Julia 1.7.0-rc1",
   "language": "julia",
   "name": "julia-1.7"
  },
  "language_info": {
   "file_extension": ".jl",
   "mimetype": "application/julia",
   "name": "julia",
   "version": "1.7.0"
  }
 },
 "nbformat": 4,
 "nbformat_minor": 5
}
